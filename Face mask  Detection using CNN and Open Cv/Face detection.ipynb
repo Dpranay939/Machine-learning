{
 "cells": [
  {
   "cell_type": "code",
   "execution_count": 1,
   "metadata": {},
   "outputs": [
    {
     "name": "stdout",
     "output_type": "stream",
     "text": [
      "{'without_mask': 0, 'with_mask': 1}\n",
      "['without_mask', 'with_mask']\n",
      "[0, 1]\n"
     ]
    }
   ],
   "source": [
    "\n",
    "import cv2,os\n",
    "\n",
    "data_path='data'\n",
    "categories=os.listdir(data_path)\n",
    "labels=[i for i in range(len(categories))]\n",
    "\n",
    "label_dict=dict(zip(categories,labels)) #empty dictionary\n",
    "\n",
    "print(label_dict)\n",
    "print(categories)\n",
    "print(labels)"
   ]
  },
  {
   "cell_type": "code",
   "execution_count": 2,
   "metadata": {},
   "outputs": [],
   "source": [
    "img_size, img_size = 100,100\n",
    "data=[]\n",
    "target=[]\n",
    "\n",
    "\n",
    "for category in categories:\n",
    "    folder_path=os.path.join(data_path,category)\n",
    "    img_names=os.listdir(folder_path)\n",
    "        \n",
    "    for img_name in img_names:\n",
    "        img_path=os.path.join(folder_path,img_name)\n",
    "        img=cv2.imread(img_path)\n",
    "\n",
    "        try:\n",
    "            gray=cv2.cvtColor(img,cv2.COLOR_BGR2GRAY)           \n",
    "            #Coverting the image into gray scale\n",
    "            resized=cv2.resize(gray,(img_size,img_size))\n",
    "            #resizing the gray scale into 50x50, since we need a fixed common size for all the images in the dataset\n",
    "            data.append(resized)\n",
    "            target.append(label_dict[category])\n",
    "            #appending the image and the label(categorized) into the list (dataset)\n",
    "\n",
    "        except Exception as e:\n",
    "            print('Exception:',e)\n",
    "            #if any exception rasied, the exception will be printed he"
   ]
  },
  {
   "cell_type": "code",
   "execution_count": 3,
   "metadata": {},
   "outputs": [
    {
     "name": "stderr",
     "output_type": "stream",
     "text": [
      "Using TensorFlow backend.\n"
     ]
    }
   ],
   "source": [
    "import numpy as np\n",
    "\n",
    "data=np.array(data)/255.0\n",
    "data=np.reshape(data,(data.shape[0],100,100,1))\n",
    "target=np.array(target)\n",
    "\n",
    "from keras.utils import np_utils\n",
    "\n",
    "new_target=np_utils.to_categorical(target)"
   ]
  },
  {
   "cell_type": "code",
   "execution_count": 4,
   "metadata": {},
   "outputs": [],
   "source": [
    "\n",
    "np.save('data',data)\n",
    "np.save('target',new_target)"
   ]
  },
  {
   "cell_type": "code",
   "execution_count": 5,
   "metadata": {},
   "outputs": [],
   "source": [
    "\n",
    "data=np.load('data.npy')\n",
    "target=np.load('target.npy')"
   ]
  },
  {
   "cell_type": "code",
   "execution_count": 6,
   "metadata": {},
   "outputs": [],
   "source": [
    "from keras.models import Sequential\n",
    "from keras.layers import Dense,Activation,Flatten,Dropout\n",
    "from keras.layers import Conv2D,MaxPooling2D\n",
    "from keras.callbacks import ModelCheckpoint\n",
    "\n",
    "model=Sequential()\n",
    "\n",
    "model.add(Conv2D(200,(3,3),input_shape=data.shape[1:]))\n",
    "model.add(Activation('relu'))\n",
    "model.add(MaxPooling2D(pool_size=(2,2)))\n",
    "#The first CNN layer followed by Relu and MaxPooling layers\n",
    "\n",
    "model.add(Conv2D(100,(3,3)))\n",
    "model.add(Activation('relu'))\n",
    "model.add(MaxPooling2D(pool_size=(2,2)))\n",
    "#The second convolution layer followed by Relu and MaxPooling layers\n",
    "\n",
    "model.add(Flatten())\n",
    "model.add(Dropout(0.5))\n",
    "#Flatten layer to stack the output convolutions from second convolution layer\n",
    "model.add(Dense(50,activation='relu'))\n",
    "#Dense layer of 64 neurons\n",
    "model.add(Dense(2,activation='softmax'))\n",
    "#The Final layer with two outputs for two categories\n",
    "\n",
    "model.compile(loss='categorical_crossentropy',optimizer='adam',metrics=['accuracy'])"
   ]
  },
  {
   "cell_type": "code",
   "execution_count": 9,
   "metadata": {},
   "outputs": [],
   "source": [
    "from sklearn.model_selection import train_test_split\n",
    "\n",
    "train_data,test_data,train_target,test_target=train_test_split(data,target,test_size=0.1,random_state = 32)\n"
   ]
  },
  {
   "cell_type": "code",
   "execution_count": 10,
   "metadata": {},
   "outputs": [
    {
     "name": "stdout",
     "output_type": "stream",
     "text": [
      "Train on 990 samples, validate on 248 samples\n",
      "Epoch 1/20\n",
      "990/990 [==============================] - 54s 54ms/step - loss: 0.6842 - accuracy: 0.5364 - val_loss: 0.7392 - val_accuracy: 0.5444\n",
      "Epoch 2/20\n",
      "990/990 [==============================] - 55s 56ms/step - loss: 0.5743 - accuracy: 0.6990 - val_loss: 0.4038 - val_accuracy: 0.8306\n",
      "Epoch 3/20\n",
      "990/990 [==============================] - 56s 57ms/step - loss: 0.4227 - accuracy: 0.8101 - val_loss: 0.3930 - val_accuracy: 0.8629\n",
      "Epoch 4/20\n",
      "990/990 [==============================] - 53s 53ms/step - loss: 0.3011 - accuracy: 0.8717 - val_loss: 0.2598 - val_accuracy: 0.8669\n",
      "Epoch 5/20\n",
      "990/990 [==============================] - 54s 54ms/step - loss: 0.2419 - accuracy: 0.9071 - val_loss: 0.2003 - val_accuracy: 0.9194\n",
      "Epoch 6/20\n",
      "990/990 [==============================] - 54s 55ms/step - loss: 0.1864 - accuracy: 0.9273 - val_loss: 0.1909 - val_accuracy: 0.9194\n",
      "Epoch 7/20\n",
      "990/990 [==============================] - 89s 90ms/step - loss: 0.1293 - accuracy: 0.9576 - val_loss: 0.1431 - val_accuracy: 0.9476\n",
      "Epoch 8/20\n",
      "990/990 [==============================] - 85s 86ms/step - loss: 0.0841 - accuracy: 0.9677 - val_loss: 0.1583 - val_accuracy: 0.9395\n",
      "Epoch 9/20\n",
      "990/990 [==============================] - 67s 68ms/step - loss: 0.0763 - accuracy: 0.9768 - val_loss: 0.1317 - val_accuracy: 0.9476\n",
      "Epoch 10/20\n",
      "990/990 [==============================] - 80s 81ms/step - loss: 0.0628 - accuracy: 0.9737 - val_loss: 0.1128 - val_accuracy: 0.9637\n",
      "Epoch 11/20\n",
      "990/990 [==============================] - 81s 82ms/step - loss: 0.0552 - accuracy: 0.9838 - val_loss: 0.0919 - val_accuracy: 0.9677\n",
      "Epoch 12/20\n",
      "990/990 [==============================] - 79s 80ms/step - loss: 0.0364 - accuracy: 0.9919 - val_loss: 0.1101 - val_accuracy: 0.9597\n",
      "Epoch 13/20\n",
      "990/990 [==============================] - 77s 78ms/step - loss: 0.0508 - accuracy: 0.9808 - val_loss: 0.1137 - val_accuracy: 0.9516\n",
      "Epoch 14/20\n",
      "990/990 [==============================] - 72s 73ms/step - loss: 0.0433 - accuracy: 0.9889 - val_loss: 0.1112 - val_accuracy: 0.9556\n",
      "Epoch 15/20\n",
      "990/990 [==============================] - 74s 75ms/step - loss: 0.0555 - accuracy: 0.9808 - val_loss: 0.1047 - val_accuracy: 0.9677\n",
      "Epoch 16/20\n",
      "990/990 [==============================] - 67s 67ms/step - loss: 0.0508 - accuracy: 0.9828 - val_loss: 0.0978 - val_accuracy: 0.9758\n",
      "Epoch 17/20\n",
      "990/990 [==============================] - 40s 40ms/step - loss: 0.0309 - accuracy: 0.9909 - val_loss: 0.1231 - val_accuracy: 0.9637\n",
      "Epoch 18/20\n",
      "990/990 [==============================] - 39s 39ms/step - loss: 0.0430 - accuracy: 0.9838 - val_loss: 0.0936 - val_accuracy: 0.9637\n",
      "Epoch 19/20\n",
      "990/990 [==============================] - 39s 39ms/step - loss: 0.0315 - accuracy: 0.9869 - val_loss: 0.1242 - val_accuracy: 0.9597\n",
      "Epoch 20/20\n",
      "990/990 [==============================] - 39s 39ms/step - loss: 0.0196 - accuracy: 0.9919 - val_loss: 0.1234 - val_accuracy: 0.9556\n"
     ]
    }
   ],
   "source": [
    "checkpoint = ModelCheckpoint('model-{epoch:03d}.model',monitor='val_loss',verbose=0,save_best_only=True,mode='auto')\n",
    "history=model.fit(train_data,train_target,epochs=20,callbacks=[checkpoint],validation_split=0.2)"
   ]
  },
  {
   "cell_type": "code",
   "execution_count": 11,
   "metadata": {},
   "outputs": [
    {
     "name": "stderr",
     "output_type": "stream",
     "text": [
      "\n",
      "Bad key \"text.kerning_factor\" on line 4 in\n",
      "C:\\Users\\D Pranay kumar naidu\\anaconda3\\lib\\site-packages\\matplotlib\\mpl-data\\stylelib\\_classic_test_patch.mplstyle.\n",
      "You probably need to get an updated matplotlibrc file from\n",
      "https://github.com/matplotlib/matplotlib/blob/v3.1.3/matplotlibrc.template\n",
      "or from the matplotlib source distribution\n"
     ]
    },
    {
     "data": {
      "image/png": "[encoded data removed]",
      "text/plain": [
       "<Figure size 432x288 with 1 Axes>"
      ]
     },
     "metadata": {
      "needs_background": "light"
     },
     "output_type": "display_data"
    }
   ],
   "source": [
    "from matplotlib import pyplot as plt\n",
    "\n",
    "plt.plot(history.history['loss'],'r',label='training loss')\n",
    "plt.plot(history.history['val_loss'],label='validation loss')\n",
    "plt.xlabel('# epochs')\n",
    "plt.ylabel('loss')\n",
    "plt.legend()\n",
    "plt.show()\n"
   ]
  },
  {
   "cell_type": "code",
   "execution_count": 12,
   "metadata": {},
   "outputs": [
    {
     "data": {
      "image/png": "[encoded data removed]",
      "text/plain": [
       "<Figure size 432x288 with 1 Axes>"
      ]
     },
     "metadata": {
      "needs_background": "light"
     },
     "output_type": "display_data"
    }
   ],
   "source": [
    "\n",
    "plt.plot(history.history['accuracy'],'r',label='training accuracy')\n",
    "plt.plot(history.history['val_accuracy'],label='validation accuracy')\n",
    "plt.xlabel('# epochs')\n",
    "plt.ylabel('loss')\n",
    "plt.legend()\n",
    "plt.show()\n"
   ]
  },
  {
   "cell_type": "code",
   "execution_count": null,
   "metadata": {},
   "outputs": [],
   "source": []
  },
  {
   "cell_type": "code",
   "execution_count": 2,
   "metadata": {},
   "outputs": [
    {
     "name": "stderr",
     "output_type": "stream",
     "text": [
      "Using TensorFlow backend.\n"
     ]
    }
   ],
   "source": [
    "from keras.models import load_model\n",
    "import cv2\n",
    "import numpy as np"
   ]
  },
  {
   "cell_type": "code",
   "execution_count": 3,
   "metadata": {},
   "outputs": [],
   "source": [
    "model = load_model('model-019.model')\n",
    "\n",
    "face_clsfr=cv2.CascadeClassifier('haarcascade_frontalface_default.xml')\n",
    "\n",
    "source=cv2.VideoCapture(0)\n",
    "\n",
    "labels_dict={0:'no MASK',1:'MASK'}\n",
    "color_dict={0:(0,0,255),1:(0,255,0)}\n"
   ]
  },
  {
   "cell_type": "code",
   "execution_count": null,
   "metadata": {},
   "outputs": [],
   "source": [
    "while(True):\n",
    "\n",
    "    ret,img=source.read()\n",
    "    gray=cv2.cvtColor(img,cv2.COLOR_BGR2GRAY)\n",
    "    faces=face_clsfr.detectMultiScale(gray,1.3,1)  \n",
    "\n",
    "    for (x,y,w,h) in faces:\n",
    "    \n",
    "        face_img=gray[y:y+w,x:x+w]\n",
    "        resized=cv2.resize(face_img,(100,100))\n",
    "        normalized=resized/255.0\n",
    "        reshaped=np.reshape(normalized,(1,100,100,1))\n",
    "        result=model.predict(reshaped)\n",
    "\n",
    "        label=np.argmax(result,axis=1)[0]\n",
    "        \n",
    "      \n",
    "        cv2.rectangle(img,(x,y),(x+w,y+h),color_dict[label],2)\n",
    "        cv2.rectangle(img,(x,y-40),(x+w,y),color_dict[label],-1)\n",
    "        cv2.putText(img, labels_dict[label], (x, y-10),cv2.FONT_HERSHEY_SIMPLEX,0.8,(255,255,255),2)\n",
    "        \n",
    "        \n",
    "    cv2.imshow('LIVE',img)\n",
    "    key=cv2.waitKey(1)\n",
    "    \n",
    "    if(key==27):\n",
    "        break\n",
    "        \n",
    "cv2.destroyAllWindows()\n",
    "source.release()"
   ]
  },
  {
   "cell_type": "code",
   "execution_count": null,
   "metadata": {},
   "outputs": [],
   "source": [
    "from keras.models import load_model\n",
    "import cv2\n",
    "import numpy as np\n",
    "model = load_model('model-017.model')\n",
    "\n",
    "face_clsfr=cv2.CascadeClassifier('haarcascade_frontalface_default.xml')\n",
    "\n",
    "img=cv2.imread('without.jpg')\n",
    "\n",
    "labels_dict={0:'no MASK',1:'MASK'}\n",
    "color_dict={0:(0,0,255),1:(0,255,0)}\n",
    "\n",
    "gray=cv2.cvtColor(img,cv2.COLOR_BGR2GRAY)\n",
    "faces=face_clsfr.detectMultiScale(gray,1.3,1)\n",
    "\n",
    "for (x,y,w,h) in faces:\n",
    "    face_img=gray[y:y+w,x:x+w]\n",
    "    \n",
    "    resized=cv2.resize(face_img,(100,100))\n",
    "    normalized=resized/255.0\n",
    "    reshaped=np.reshape(normalized,(1,100,100,1))\n",
    "    result=model.predict(reshaped)\n",
    "    \n",
    "    label=np.argmax(result,axis=1)[0]\n",
    " \n",
    "      \n",
    "    cv2.rectangle(img,(x,y),(x+w,y+h),color_dict[label],2)\n",
    "    cv2.rectangle(img,(x,y-40),(x+w,y),color_dict[label],-1)\n",
    "    cv2.putText(img, labels_dict[label], (x, y-10),cv2.FONT_HERSHEY_SIMPLEX,0.8,(255,255,255),2)\n",
    "        \n",
    "\n",
    "cv2.imshow('Result',img)\n",
    "    \n",
    "cv2.waitKey(0)\n",
    "\n",
    " \n",
    "cv2.destroyAllWindows()  \n",
    "        \n",
    "\n",
    "\n",
    "\n"
   ]
  },
  {
   "cell_type": "code",
   "execution_count": null,
   "metadata": {},
   "outputs": [],
   "source": []
  },
  {
   "cell_type": "code",
   "execution_count": null,
   "metadata": {},
   "outputs": [],
   "source": []
  }
 ],
 "metadata": {
  "kernelspec": {
   "display_name": "Python 3",
   "language": "python",
   "name": "python3"
  }
 },
 "nbformat": 4,
 "nbformat_minor": 4
}
